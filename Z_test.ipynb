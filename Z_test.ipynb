{
  "nbformat": 4,
  "nbformat_minor": 0,
  "metadata": {
    "colab": {
      "name": "lez4.ipynb",
      "provenance": [],
      "collapsed_sections": [],
      "authorship_tag": "ABX9TyMrvVxTFDV3jGpGDggSh+br",
      "include_colab_link": true
    },
    "kernelspec": {
      "name": "python3",
      "display_name": "Python 3"
    },
    "language_info": {
      "name": "python"
    }
  },
  "cells": [
    {
      "cell_type": "markdown",
      "metadata": {
        "id": "view-in-github",
        "colab_type": "text"
      },
      "source": [
        "<a href=\"https://colab.research.google.com/github/francescom-hub/gittest_fminelle/blob/main/Z_test.ipynb\" target=\"_parent\"><img src=\"https://colab.research.google.com/assets/colab-badge.svg\" alt=\"Open In Colab\"/></a>"
      ]
    },
    {
      "cell_type": "code",
      "metadata": {
        "id": "mYmdawmqZW8W"
      },
      "source": [
        "import pandas as pd"
      ],
      "execution_count": null,
      "outputs": []
    },
    {
      "cell_type": "code",
      "metadata": {
        "id": "hv0wdzP9uHTv"
      },
      "source": [
        "import numpy as np"
      ],
      "execution_count": null,
      "outputs": []
    },
    {
      "cell_type": "code",
      "metadata": {
        "id": "k6Zo_yiBdc29"
      },
      "source": [
        "df = pd.read_csv (\"https://raw.githubusercontent.com/fedhere/DSPS/master/labs/1865331.csv\")"
      ],
      "execution_count": null,
      "outputs": []
    },
    {
      "cell_type": "code",
      "metadata": {
        "id": "ysvN4mavknLB"
      },
      "source": [
        "df = df[[\"DATE\",\"PRCP\"]]"
      ],
      "execution_count": null,
      "outputs": []
    },
    {
      "cell_type": "code",
      "metadata": {
        "id": "q1rAwnbdlBOm"
      },
      "source": [
        "pd.to_datetime(df.DATE);\n"
      ],
      "execution_count": null,
      "outputs": []
    },
    {
      "cell_type": "code",
      "metadata": {
        "id": "O1RYMlVmrFqM"
      },
      "source": [
        "samp= df[pd.to_datetime(df.DATE)>pd.to_datetime(\"2018-12-31\")]"
      ],
      "execution_count": null,
      "outputs": []
    },
    {
      "cell_type": "code",
      "metadata": {
        "id": "zF2h5nCIoVms"
      },
      "source": [
        "pop= df[~(pd.to_datetime(df.DATE)>pd.to_datetime(\"2018-12-31\"))]"
      ],
      "execution_count": null,
      "outputs": []
    },
    {
      "cell_type": "code",
      "metadata": {
        "id": "3obv352ZxZ1s"
      },
      "source": [
        "Z=(np.mean (samp.PRCP)-np.mean (pop.PRCP))/(np.std (pop.PRCP)/np.sqrt(samp.PRCP.size))"
      ],
      "execution_count": null,
      "outputs": []
    },
    {
      "cell_type": "code",
      "metadata": {
        "colab": {
          "base_uri": "https://localhost:8080/"
        },
        "id": "0Nm3C3fBybDz",
        "outputId": "174dd151-3fab-4dbb-cdaa-67d43c6b97e1"
      },
      "source": [
        "print (Z)"
      ],
      "execution_count": null,
      "outputs": [
        {
          "output_type": "stream",
          "text": [
            "0.13506940185562044\n"
          ],
          "name": "stdout"
        }
      ]
    }
  ]
}